{
 "cells": [
  {
   "cell_type": "markdown",
   "metadata": {},
   "source": [
    "from pycaret.datasets import get_data\n"
   ]
  }
 ],
 "metadata": {
  "language_info": {
   "name": "python"
  }
 },
 "nbformat": 4,
 "nbformat_minor": 2
}
